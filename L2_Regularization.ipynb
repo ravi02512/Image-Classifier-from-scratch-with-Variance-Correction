{
 "cells": [
  {
   "cell_type": "code",
   "execution_count": 1,
   "metadata": {},
   "outputs": [],
   "source": [
    "from Image import *"
   ]
  },
  {
   "cell_type": "code",
   "execution_count": 6,
   "metadata": {},
   "outputs": [],
   "source": [
    "train_file_name='/home/ravi/Downloads/train_catvnoncat.h5'\n",
    "test_file_name='/home/ravi/Downloads/test_catvnoncat.h5'\n",
    "train_x_orig, train_y, test_x_orig, test_y, classes = load_data(train_file_name,test_file_name)"
   ]
  },
  {
   "cell_type": "code",
   "execution_count": 7,
   "metadata": {},
   "outputs": [
    {
     "name": "stdout",
     "output_type": "stream",
     "text": [
      "y = 0. It's a non-cat picture.\n"
     ]
    },
    {
     "data": {
      "image/png": "[encoded data removed]",
      "text/plain": [
       "<Figure size 432x288 with 1 Axes>"
      ]
     },
     "metadata": {
      "needs_background": "light"
     },
     "output_type": "display_data"
    }
   ],
   "source": [
    "# Example of a picture\n",
    "index = 10\n",
    "plt.imshow(train_x_orig[index])\n",
    "print (\"y = \" + str(train_y[0,index]) + \". It's a \" + classes[train_y[0,index]].decode(\"utf-8\") +  \" picture.\")"
   ]
  },
  {
   "cell_type": "code",
   "execution_count": 8,
   "metadata": {},
   "outputs": [],
   "source": [
    "# Explore your dataset \n",
    "m_train = train_x_orig.shape[0]\n",
    "num_px = train_x_orig.shape[1]\n",
    "m_test = test_x_orig.shape[0]\n"
   ]
  },
  {
   "cell_type": "code",
   "execution_count": 12,
   "metadata": {},
   "outputs": [
    {
     "name": "stdout",
     "output_type": "stream",
     "text": [
      "train_x's shape: (12288, 209)\n",
      "test_x's shape: (12288, 50)\n"
     ]
    }
   ],
   "source": [
    "# Reshape the training and test examples \n",
    "train_x_flatten = train_x_orig.reshape(train_x_orig.shape[0], -1).T   # The \"-1\" makes reshape flatten the remaining dimensions\n",
    "test_x_flatten = test_x_orig.reshape(test_x_orig.shape[0], -1).T\n",
    "\n",
    "# Standardize data to have feature values between 0 and 1.\n",
    "train_x = train_x_flatten/255.\n",
    "test_x = test_x_flatten/255.\n",
    "\n",
    "print (\"train_x's shape: \" + str(train_x.shape))\n",
    "print (\"test_x's shape: \" + str(test_x.shape))\n"
   ]
  },
  {
   "cell_type": "code",
   "execution_count": 26,
   "metadata": {},
   "outputs": [],
   "source": [
    "def L_layer_model(X, Y, layers_dims, learning_rate=0.0075, num_iterations=200, print_cost=False, initialization=None,graph=None,lambd=None):\n",
    "\n",
    "    np.random.seed(1)\n",
    "    costs = []                     \n",
    "    \n",
    "    if initialization == \"zeros\":\n",
    "        parameters = initialize_parameters_zeros(layers_dims)\n",
    "    elif initialization == \"random\":\n",
    "        parameters = initialize_parameters_random(layers_dims)\n",
    "    elif initialization == \"he\":\n",
    "        parameters = initialize_parameters_he(layers_dims)\n",
    "        \n",
    "    else:\n",
    "        parameters=initialize_parameters_deep(layers_dims)\n",
    "    \n",
    "    \n",
    "    for i in range(0, num_iterations):\n",
    "\n",
    "\n",
    "        AL, caches =L_model_forward(X, parameters)\n",
    "        \n",
    "        # Compute cost.\n",
    "     \n",
    "        cost = compute_cost_with_regularization(AL,Y,parameters,lambd)\n",
    "    \n",
    "        # Backward propagation.\n",
    "        \n",
    "        _,cache=forward_propagation(X, parameters)\n",
    "        grads =backward_propagation_with_regularization(X, Y, cache, lambd)\n",
    "         \n",
    "\n",
    "        # Update parameters.\n",
    "       \n",
    "        parameters = update_parameters(parameters, grads, learning_rate)\n",
    "   \n",
    "                \n",
    "        # Print the cost every 1 training example\n",
    "        if print_cost and i % 1 == 0:\n",
    "            print (\"Cost after iteration %i: %f\" %(i, cost))\n",
    "        if print_cost and i % 1 == 0:\n",
    "            costs.append(cost)\n",
    "        \n",
    "    if graph==True:\n",
    "        # plot the cost\n",
    "        plt.plot(np.squeeze(costs))\n",
    "        plt.ylabel('cost')\n",
    "        plt.xlabel('iterations (per iteration)')\n",
    "        plt.title(\"Learning rate =\" + str(learning_rate))\n",
    "        plt.show()\n",
    "    \n",
    "    return parameters, cost"
   ]
  },
  {
   "cell_type": "code",
   "execution_count": 20,
   "metadata": {},
   "outputs": [],
   "source": [
    "layers_dims=[12288,7,5,1]"
   ]
  },
  {
   "cell_type": "code",
   "execution_count": 23,
   "metadata": {},
   "outputs": [],
   "source": [
    "from scipy.stats import truncnorm\n",
    "\n",
    "def get_truncated_normal(mean=0, sd=1, low=0, upp=10):\n",
    "    return truncnorm(\n",
    "        (low - mean) / sd, (upp - mean) / sd, loc=mean, scale=sd)\n",
    "\n",
    "x=get_truncated_normal(mean=0, sd=1, low=-4, upp=0)\n",
    "a=x.rvs(40)\n"
   ]
  },
  {
   "cell_type": "code",
   "execution_count": 24,
   "metadata": {},
   "outputs": [
    {
     "name": "stdout",
     "output_type": "stream",
     "text": [
      "Accuracy: 0.76\n",
      "Accuracy: 0.8229665071770333\n",
      "for -1.1859652686347784 lambd iteration 1 the difference is 0.06296650717703334\n",
      "============================================================\n",
      "Accuracy: 0.66\n",
      "Accuracy: 0.7799043062200957\n",
      "for -1.230058508187391 lambd iteration 2 the difference is 0.11990430622009562\n",
      "============================================================\n",
      "Accuracy: 0.48000000000000004\n",
      "Accuracy: 0.7464114832535884\n",
      "for -0.5676533203743401 lambd iteration 3 the difference is 0.2664114832535884\n",
      "============================================================\n",
      "Accuracy: 0.76\n",
      "Accuracy: 0.8229665071770333\n",
      "for -1.1813500862761002 lambd iteration 4 the difference is 0.06296650717703334\n",
      "============================================================\n",
      "Accuracy: 0.74\n",
      "Accuracy: 0.8468899521531099\n",
      "for -1.13183945147897 lambd iteration 5 the difference is 0.10688995215310992\n",
      "============================================================\n",
      "Accuracy: 0.3400000000000001\n",
      "Accuracy: 0.6794258373205742\n",
      "for -0.4476528544417883 lambd iteration 6 the difference is 0.3394258373205741\n",
      "============================================================\n",
      "Accuracy: 0.36000000000000004\n",
      "Accuracy: 0.6746411483253588\n",
      "for -1.0437066920616402 lambd iteration 7 the difference is 0.3146411483253588\n",
      "============================================================\n",
      "Accuracy: 0.4\n",
      "Accuracy: 0.7129186602870813\n",
      "for -0.5228779111312777 lambd iteration 8 the difference is 0.31291866028708126\n",
      "============================================================\n",
      "Accuracy: 0.74\n",
      "Accuracy: 0.8468899521531099\n",
      "for -1.1149712293649312 lambd iteration 9 the difference is 0.10688995215310992\n",
      "============================================================\n",
      "Accuracy: 0.54\n",
      "Accuracy: 0.7607655502392343\n",
      "for -0.2856081494028504 lambd iteration 10 the difference is 0.22076555023923428\n",
      "============================================================\n",
      "Accuracy: 0.38\n",
      "Accuracy: 0.7177033492822966\n",
      "for -0.04635509166189046 lambd iteration 11 the difference is 0.3377033492822966\n",
      "============================================================\n",
      "Accuracy: 0.3400000000000001\n",
      "Accuracy: 0.6746411483253588\n",
      "for -1.66723181866764 lambd iteration 12 the difference is 0.33464114832535874\n",
      "============================================================\n",
      "Accuracy: 0.6400000000000001\n",
      "Accuracy: 0.832535885167464\n",
      "for -1.0481409958936834 lambd iteration 13 the difference is 0.1925358851674639\n",
      "============================================================\n",
      "Accuracy: 0.36000000000000004\n",
      "Accuracy: 0.6985645933014354\n",
      "for -0.44262325927144347 lambd iteration 14 the difference is 0.33856459330143535\n",
      "============================================================\n",
      "Accuracy: 0.78\n",
      "Accuracy: 0.8516746411483253\n",
      "for -1.4330757238510392 lambd iteration 15 the difference is 0.07167464114832522\n",
      "============================================================\n",
      "Accuracy: 0.4\n",
      "Accuracy: 0.7177033492822966\n",
      "for -0.05334337243945008 lambd iteration 16 the difference is 0.3177033492822966\n",
      "============================================================\n",
      "Accuracy: 0.6400000000000001\n",
      "Accuracy: 0.832535885167464\n",
      "for -1.0479207735451788 lambd iteration 17 the difference is 0.1925358851674639\n",
      "============================================================\n",
      "Accuracy: 0.36000000000000004\n",
      "Accuracy: 0.6794258373205742\n",
      "for -0.7535791811290911 lambd iteration 18 the difference is 0.3194258373205741\n",
      "============================================================\n",
      "Accuracy: 0.36000000000000004\n",
      "Accuracy: 0.7033492822966507\n",
      "for -0.39817739459270696 lambd iteration 19 the difference is 0.3433492822966507\n",
      "============================================================\n",
      "Accuracy: 0.36000000000000004\n",
      "Accuracy: 0.6985645933014354\n",
      "for -0.931813473463152 lambd iteration 20 the difference is 0.33856459330143535\n",
      "============================================================\n",
      "Accuracy: 0.66\n",
      "Accuracy: 0.7799043062200957\n",
      "for -1.2363833080075959 lambd iteration 21 the difference is 0.11990430622009562\n",
      "============================================================\n",
      "Accuracy: 0.48000000000000004\n",
      "Accuracy: 0.7320574162679425\n",
      "for -0.531197117742379 lambd iteration 22 the difference is 0.2520574162679425\n",
      "============================================================\n",
      "Accuracy: 0.36000000000000004\n",
      "Accuracy: 0.69377990430622\n",
      "for -0.6160867531936166 lambd iteration 23 the difference is 0.33377990430622\n",
      "============================================================\n",
      "Accuracy: 0.56\n",
      "Accuracy: 0.7846889952153109\n",
      "for -0.09600125436791575 lambd iteration 24 the difference is 0.22468899521531083\n",
      "============================================================\n",
      "Accuracy: 0.36000000000000004\n",
      "Accuracy: 0.69377990430622\n",
      "for -0.6254034303254297 lambd iteration 25 the difference is 0.33377990430622\n",
      "============================================================\n",
      "Accuracy: 0.76\n",
      "Accuracy: 0.8038277511961721\n",
      "0.5443056943473886\n",
      "for -1.5388261980599642 lambd iteration 26 the difference is 0.043827751196172104\n",
      "============================================================\n",
      "Accuracy: 0.36000000000000004\n",
      "Accuracy: 0.69377990430622\n",
      "for -0.6104635298380289 lambd iteration 27 the difference is 0.33377990430622\n",
      "============================================================\n",
      "Accuracy: 0.36000000000000004\n",
      "Accuracy: 0.6985645933014354\n",
      "for -0.5575500422119547 lambd iteration 28 the difference is 0.33856459330143535\n",
      "============================================================\n",
      "Accuracy: 0.36000000000000004\n",
      "Accuracy: 0.69377990430622\n",
      "for -2.872828135764696 lambd iteration 29 the difference is 0.33377990430622\n",
      "============================================================\n",
      "Accuracy: 0.6600000000000001\n",
      "Accuracy: 0.8277511961722487\n",
      "for -0.652925411369306 lambd iteration 30 the difference is 0.16775119617224854\n",
      "============================================================\n",
      "Accuracy: 0.36\n",
      "Accuracy: 0.7177033492822966\n",
      "for -1.8083896913032818 lambd iteration 31 the difference is 0.35770334928229663\n",
      "============================================================\n",
      "Accuracy: 0.6400000000000001\n",
      "Accuracy: 0.8229665071770333\n",
      "for -0.33938877338217405 lambd iteration 32 the difference is 0.18296650717703322\n",
      "============================================================\n",
      "Accuracy: 0.78\n",
      "Accuracy: 0.8516746411483253\n",
      "for -1.4706924508593906 lambd iteration 33 the difference is 0.07167464114832522\n",
      "============================================================\n",
      "Accuracy: 0.48000000000000004\n",
      "Accuracy: 0.7368421052631579\n",
      "for -1.8300994200833103 lambd iteration 34 the difference is 0.2568421052631578\n",
      "============================================================\n",
      "Accuracy: 0.78\n",
      "Accuracy: 0.8516746411483253\n",
      "for -1.405891120856367 lambd iteration 35 the difference is 0.07167464114832522\n",
      "============================================================\n",
      "Accuracy: 0.36000000000000004\n",
      "Accuracy: 0.6985645933014354\n",
      "for -0.9019815959727973 lambd iteration 36 the difference is 0.33856459330143535\n",
      "============================================================\n",
      "Accuracy: 0.3400000000000001\n",
      "Accuracy: 0.6746411483253588\n",
      "for -1.6882555384068851 lambd iteration 37 the difference is 0.33464114832535874\n",
      "============================================================\n",
      "Accuracy: 0.3400000000000001\n",
      "Accuracy: 0.6746411483253588\n",
      "for -0.40134482554662754 lambd iteration 38 the difference is 0.33464114832535874\n",
      "============================================================\n",
      "Accuracy: 0.56\n",
      "Accuracy: 0.7559808612440191\n",
      "for -0.3289343544094362 lambd iteration 39 the difference is 0.19598086124401903\n",
      "============================================================\n",
      "Accuracy: 0.38\n",
      "Accuracy: 0.7129186602870813\n",
      "for -2.258572080280996 lambd iteration 40 the difference is 0.3329186602870813\n",
      "============================================================\n"
     ]
    }
   ],
   "source": [
    "l=0\n",
    "for i in a:\n",
    "    l+=1\n",
    "    parameters,cost=L_layer_model(train_x, train_y, layers_dims=layers_dims,num_iterations=100,print_cost=False,initialization='he',graph=False, lambd=10**i)\n",
    "    _, test_score=predict(test_x, test_y, parameters)\n",
    "    _,train_score=predict(train_x, train_y,parameters)\n",
    "    if train_score- test_score < 0.05:\n",
    "        final_params=parameters\n",
    "        print(cost)\n",
    "        \n",
    "    print('for {} lambd iteration {} the difference is {}'.format(i,l,train_score-test_score))\n",
    "    print('==='*20)"
   ]
  },
  {
   "cell_type": "code",
   "execution_count": 32,
   "metadata": {},
   "outputs": [
    {
     "name": "stdout",
     "output_type": "stream",
     "text": [
      "Cost after iteration 0: 0.675511\n",
      "Cost after iteration 1: 0.668077\n",
      "Cost after iteration 2: 0.660985\n",
      "Cost after iteration 3: 0.654332\n",
      "Cost after iteration 4: 0.647420\n",
      "Cost after iteration 5: 0.640928\n",
      "Cost after iteration 6: 0.636151\n",
      "Cost after iteration 7: 0.631460\n",
      "Cost after iteration 8: 0.626294\n",
      "Cost after iteration 9: 0.636858\n",
      "Cost after iteration 10: 0.643295\n",
      "Cost after iteration 11: 0.625969\n",
      "Cost after iteration 12: 0.617838\n",
      "Cost after iteration 13: 0.608202\n",
      "Cost after iteration 14: 0.599625\n",
      "Cost after iteration 15: 0.599535\n",
      "Cost after iteration 16: 0.633754\n",
      "Cost after iteration 17: 0.643514\n",
      "Cost after iteration 18: 0.611833\n",
      "Cost after iteration 19: 0.600672\n",
      "Cost after iteration 20: 0.593278\n",
      "Cost after iteration 21: 0.586919\n",
      "Cost after iteration 22: 0.577342\n",
      "Cost after iteration 23: 0.572992\n",
      "Cost after iteration 24: 0.591817\n",
      "Cost after iteration 25: 0.712541\n",
      "Cost after iteration 26: 0.645522\n",
      "Cost after iteration 27: 0.600625\n",
      "Cost after iteration 28: 0.590866\n",
      "Cost after iteration 29: 0.584601\n",
      "Cost after iteration 30: 0.575938\n",
      "Cost after iteration 31: 0.570401\n",
      "Cost after iteration 32: 0.569555\n",
      "Cost after iteration 33: 0.578342\n",
      "Cost after iteration 34: 0.621477\n",
      "Cost after iteration 35: 0.593506\n",
      "Cost after iteration 36: 0.587288\n",
      "Cost after iteration 37: 0.569479\n",
      "Cost after iteration 38: 0.586178\n",
      "Cost after iteration 39: 0.556462\n",
      "Cost after iteration 40: 0.553210\n",
      "Cost after iteration 41: 0.617529\n",
      "Cost after iteration 42: 0.598220\n",
      "Cost after iteration 43: 0.556301\n",
      "Cost after iteration 44: 0.563895\n",
      "Cost after iteration 45: 0.579986\n",
      "Cost after iteration 46: 0.563630\n",
      "Cost after iteration 47: 0.566156\n",
      "Cost after iteration 48: 0.641527\n",
      "Cost after iteration 49: 0.599942\n",
      "Cost after iteration 50: 0.572156\n",
      "Cost after iteration 51: 0.556735\n",
      "Cost after iteration 52: 0.547964\n",
      "Cost after iteration 53: 0.541588\n",
      "Cost after iteration 54: 0.532558\n",
      "Cost after iteration 55: 0.527507\n",
      "Cost after iteration 56: 0.527881\n",
      "Cost after iteration 57: 0.549466\n",
      "Cost after iteration 58: 0.619808\n",
      "Cost after iteration 59: 0.592483\n",
      "Cost after iteration 60: 0.573068\n",
      "Cost after iteration 61: 0.554758\n",
      "Cost after iteration 62: 0.543085\n",
      "Cost after iteration 63: 0.542957\n",
      "Cost after iteration 64: 0.575323\n",
      "Cost after iteration 65: 0.537622\n",
      "Cost after iteration 66: 0.516143\n",
      "Cost after iteration 67: 0.512495\n",
      "Cost after iteration 68: 0.597547\n",
      "Cost after iteration 69: 0.610512\n",
      "Cost after iteration 70: 0.544646\n",
      "Cost after iteration 71: 0.527645\n",
      "Cost after iteration 72: 0.520098\n",
      "Cost after iteration 73: 0.514226\n",
      "Cost after iteration 74: 0.505988\n",
      "Cost after iteration 75: 0.495874\n",
      "Cost after iteration 76: 0.493138\n",
      "Cost after iteration 77: 0.491655\n",
      "Cost after iteration 78: 0.496836\n",
      "Cost after iteration 79: 0.533285\n",
      "Cost after iteration 80: 0.585848\n",
      "Cost after iteration 81: 0.574987\n",
      "Cost after iteration 82: 0.515744\n",
      "Cost after iteration 83: 0.515244\n",
      "Cost after iteration 84: 0.525831\n",
      "Cost after iteration 85: 0.579323\n",
      "Cost after iteration 86: 0.540942\n",
      "Cost after iteration 87: 0.547548\n",
      "Cost after iteration 88: 0.542747\n",
      "Cost after iteration 89: 0.560152\n",
      "Cost after iteration 90: 0.505298\n",
      "Cost after iteration 91: 0.500043\n",
      "Cost after iteration 92: 0.538412\n",
      "Cost after iteration 93: 0.586746\n",
      "Cost after iteration 94: 0.527778\n",
      "Cost after iteration 95: 0.503563\n",
      "Cost after iteration 96: 0.480833\n",
      "Cost after iteration 97: 0.479509\n",
      "Cost after iteration 98: 0.489760\n",
      "Cost after iteration 99: 0.544306\n"
     ]
    },
    {
     "data": {
      "image/png": "[encoded data removed]",
      "text/plain": [
       "<Figure size 432x288 with 1 Axes>"
      ]
     },
     "metadata": {
      "needs_background": "light"
     },
     "output_type": "display_data"
    }
   ],
   "source": [
    "l=10**-1.5388261980599642\n",
    "parameters,cost=L_layer_model(train_x, train_y, layers_dims=layers_dims,num_iterations=100,print_cost=True,initialization='he',graph=True, lambd=l)"
   ]
  },
  {
   "cell_type": "code",
   "execution_count": 33,
   "metadata": {},
   "outputs": [
    {
     "name": "stdout",
     "output_type": "stream",
     "text": [
      "Accuracy: 0.8038277511961721\n"
     ]
    }
   ],
   "source": [
    "train_pred=predict(train_x, train_y, parameters)"
   ]
  },
  {
   "cell_type": "code",
   "execution_count": 34,
   "metadata": {},
   "outputs": [
    {
     "name": "stdout",
     "output_type": "stream",
     "text": [
      "Accuracy: 0.76\n"
     ]
    }
   ],
   "source": [
    "test_pred=predict(test_x, test_y, parameters)"
   ]
  }
 ],
 "metadata": {
  "kernelspec": {
   "display_name": "Python 3",
   "language": "python",
   "name": "python3"
  },
  "language_info": {
   "codemirror_mode": {
    "name": "ipython",
    "version": 3
   },
   "file_extension": ".py",
   "mimetype": "text/x-python",
   "name": "python",
   "nbconvert_exporter": "python",
   "pygments_lexer": "ipython3",
   "version": "3.6.7"
  }
 },
 "nbformat": 4,
 "nbformat_minor": 2
}
